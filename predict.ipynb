{
 "cells": [
  {
   "cell_type": "code",
   "execution_count": 2,
   "metadata": {},
   "outputs": [
    {
     "name": "stdout",
     "output_type": "stream",
     "text": [
      "Num GPUs Available:  1\n"
     ]
    }
   ],
   "source": [
    "import numpy as np\n",
    "import matplotlib.pyplot as plt\n",
    "import pandas as pd\n",
    "import tensorflow as tf\n",
    "from sklearn.preprocessing import MinMaxScaler\n",
    "\n",
    "print(\"Num GPUs Available: \", len(tf.config.list_physical_devices(\"GPU\")))\n",
    "# fix random seed for reproducibility\n",
    "tf.random.set_seed(8)"
   ]
  },
  {
   "cell_type": "code",
   "execution_count": 23,
   "metadata": {},
   "outputs": [],
   "source": [
    "# Hyperparameter\n",
    "TRAIN_TEST_RATIO = 0.8\n",
    "TIME_STEP = 8\n",
    "MODEL_TYPE = \"CNN_LSTM\"\n",
    "EPOCH_SIZE = 200\n",
    "BATCH_SIZE = 16 \n",
    "MODEL_JSON = {}\n",
    "def to_string():\n",
    "    print_list = [\n",
    "        f\"Time step: {TIME_STEP}\",\n",
    "        f\"Ratio: {TRAIN_TEST_RATIO}\",\n",
    "        f\"Model type: {MODEL_TYPE}\",\n",
    "        f\"Epoch size: {EPOCH_SIZE}\",\n",
    "        f\"Batch size: {BATCH_SIZE}\",\n",
    "        f\"Model json: {MODEL_JSON}\",\n",
    "    ]\n",
    "    return \"\\n\".join(print_list)\n",
    "VERSION = 17\n",
    "model = tf.keras.models.load_model(f\"./Model/{VERSION}\")"
   ]
  },
  {
   "cell_type": "code",
   "execution_count": 9,
   "metadata": {},
   "outputs": [
    {
     "name": "stdout",
     "output_type": "stream",
     "text": [
      "12\n",
      "[1446   36  177  189  219  226  155  119  104   97   73   47]\n",
      "[ 0.     2.479  4.958  7.437  9.916 12.395 14.874 17.353 19.832 22.311\n",
      " 24.79  27.269 29.748]\n",
      "[0.50069252 0.01246537 0.06128809 0.06544321 0.07583102 0.07825485\n",
      " 0.05367036 0.04120499 0.03601108 0.03358726 0.02527701 0.01627424]\n"
     ]
    },
    {
     "data": {
      "text/plain": [
       "[<matplotlib.lines.Line2D at 0x1b86c281700>]"
      ]
     },
     "execution_count": 9,
     "metadata": {},
     "output_type": "execute_result"
    },
    {
     "data": {
      "image/png": "[encoded data removed]",
      "text/plain": [
       "<Figure size 640x480 with 1 Axes>"
      ]
     },
     "metadata": {},
     "output_type": "display_data"
    }
   ],
   "source": [
    "dataframe20 = pd.read_excel('Data/Data_1h/Data_1h/Solar_System_2.xlsx', sheet_name=\"2020\", header=1, usecols=[11])\n",
    "dataframe21 = pd.read_excel('Data/Data_1h/Data_1h/Solar_System_2.xlsx', sheet_name=\"2021\", header=1, usecols=[11])\n",
    "dataframe22 = pd.read_excel('Data/Data_1h/Data_1h/Solar_System_2.xlsx', sheet_name=\"2022\", header=1, usecols=[11])\n",
    "dataframe23 = pd.read_excel('Data/Data_1h/Data_1h/Solar_System_2.xlsx', sheet_name=\"2023\", header=1, usecols=[11])\n",
    "dataset = dataframe23.values\n",
    "# dataset = np.append(dataset, dataframe21.values)\n",
    "# dataset = np.append(dataset, dataframe22.values)\n",
    "# dataset = np.append(dataset, dataframe23.values)\n",
    "dataset = dataset.astype('float64')\n",
    "dataset = np.reshape(dataset, (-1, 1))\n",
    "\n",
    "#Preprocessing\n",
    "dataset[dataset<0] = 0\n",
    "dataset[np.isnan(dataset)] = 0\n",
    "bins_size = int(1 + 3.3*np.log10(len(dataset)))\n",
    "print(bins_size)\n",
    "counts, bin_dataset = np.histogram(dataset, bins=bins_size, density=True)\n",
    "counts_number, bin_dataset = np.histogram(dataset, bins=bins_size)\n",
    "rel_freq =counts_number/len(dataset)\n",
    "print(counts_number)\n",
    "print(bin_dataset)\n",
    "print(rel_freq)\n",
    "plt.plot()\n",
    "plt.plot(bin_dataset[1:],counts,label=\"actual_pdf\")\n",
    "# plt.clf()\n",
    "# plt.figure(figsize=(100,60))\n",
    "# plt.rcParams.update({'font.size': 100})\n",
    "# plt.plot(dataset)\n",
    "# plt.show()"
   ]
  },
  {
   "attachments": {},
   "cell_type": "markdown",
   "metadata": {},
   "source": [
    "Normalize the dataset, when working with sigmoid or tanh function as activation function, normalize data to range 0, 1"
   ]
  },
  {
   "cell_type": "code",
   "execution_count": null,
   "metadata": {},
   "outputs": [],
   "source": [
    "scaler = MinMaxScaler(feature_range=(0, 1))\n",
    "dataset = scaler.fit_transform(dataset)\n",
    "def create_dataset(dataset, look_back=1):\n",
    "\tdataX, dataY = [], []\n",
    "\tfor i in range(len(dataset)-look_back-1):\n",
    "\t\ta = dataset[i:(i+look_back), 0]\n",
    "\t\tdataX.append(a)\n",
    "\t\tdataY.append(dataset[i + look_back, 0])\n",
    "\treturn np.array(dataX), np.array(dataY)"
   ]
  },
  {
   "cell_type": "code",
   "execution_count": null,
   "metadata": {},
   "outputs": [],
   "source": [
    "model = tf.keras.models.load_model(f\"./Model/{VERSION}\")\n",
    "datasetX, datasetY = create_dataset(dataset)\n",
    "result = model.predict(dataset)\n",
    "plt.plot(dataset)\n",
    "plt.plot(result)\n"
   ]
  }
 ],
 "metadata": {
  "kernelspec": {
   "display_name": "venv",
   "language": "python",
   "name": "python3"
  },
  "language_info": {
   "codemirror_mode": {
    "name": "ipython",
    "version": 3
   },
   "file_extension": ".py",
   "mimetype": "text/x-python",
   "name": "python",
   "nbconvert_exporter": "python",
   "pygments_lexer": "ipython3",
   "version": "3.9.16"
  },
  "orig_nbformat": 4
 },
 "nbformat": 4,
 "nbformat_minor": 2
}
